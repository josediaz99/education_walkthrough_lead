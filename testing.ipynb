{
 "cells": [
  {
   "cell_type": "markdown",
   "id": "8bcaa41c",
   "metadata": {},
   "source": [
    "create a data frame which contains schools + school districts in illinois"
   ]
  },
  {
   "cell_type": "code",
   "execution_count": null,
   "id": "094a4e3c",
   "metadata": {},
   "outputs": [
    {
     "name": "stdout",
     "output_type": "stream",
     "text": [
      "  CountyName RecType               FacilityName           Administrator  \\\n",
      "0      Adams    Dist              Payson CUSD 1         Dr. Donna Veile   \n",
      "1      Adams     Sch        Seymour High School       Mr. Greg Buescher   \n",
      "2      Adams     Sch  Seymour Elementary School        Ms. Julie Phelan   \n",
      "3      Adams    Dist             Liberty CUSD 2         Dr. Kelle Bunch   \n",
      "4      Adams     Sch        Liberty High School  Ms. Kimberly  Harrison   \n",
      "\n",
      "                        Website  \n",
      "0          http://www.cusd1.org  \n",
      "1          http://www.cusd1.org  \n",
      "2                           NaN  \n",
      "3  http://www.libertyschool.net  \n",
      "4  http://www.libertyschool.net  \n"
     ]
    }
   ],
   "source": [
    "import pandas as pd\n",
    "\n",
    "df = pd.read_excel('dir_ed_entities.xls', sheet_name=1,usecols=['CountyName','RecType','FacilityName','Administrator','Website'])\n",
    "print(df.head())"
   ]
  },
  {
   "cell_type": "markdown",
   "id": "d1af4bf6",
   "metadata": {},
   "source": [
    "filter through the data frame to only display school districts \n"
   ]
  },
  {
   "cell_type": "code",
   "execution_count": 4,
   "id": "6e2b1873",
   "metadata": {},
   "outputs": [
    {
     "name": "stdout",
     "output_type": "stream",
     "text": [
      "   CountyName RecType    FacilityName     Administrator  \\\n",
      "0       Adams    Dist   Payson CUSD 1   Dr. Donna Veile   \n",
      "3       Adams    Dist  Liberty CUSD 2   Dr. Kelle Bunch   \n",
      "6       Adams    Dist  Central CUSD 3  Mrs. Erica Smith   \n",
      "11      Adams    Dist          CUSD 4  Mr. Scott Riddle   \n",
      "15      Adams    Dist   Quincy SD 172   Dr. Todd Pettit   \n",
      "\n",
      "                         Website  \n",
      "0           http://www.cusd1.org  \n",
      "3   http://www.libertyschool.net  \n",
      "6           http://www.cusd3.com  \n",
      "11          http://www.cusd4.com  \n",
      "15            http://www.qps.org  \n"
     ]
    }
   ],
   "source": [
    "school_districts_df = df[df[\"RecType\"] == \"Dist\"]\n",
    "print(school_districts_df.head())"
   ]
  },
  {
   "cell_type": "code",
   "execution_count": 19,
   "id": "ce150f89",
   "metadata": {},
   "outputs": [
    {
     "name": "stdout",
     "output_type": "stream",
     "text": [
      "Joliet PSD 86\n"
     ]
    }
   ],
   "source": [
    "import pandas as pd\n",
    "district_df = pd.read_excel(\"dir_ed_entities.xls\",sheet_name=1, usecols=['FacilityName','RecType'])\n",
    "district_df = district_df[district_df['RecType']=='Dist']\n",
    "district_name = district_df['FacilityName'].sample(n=1).values[0]\n",
    "\n",
    "print(district_name)"
   ]
  }
 ],
 "metadata": {
  "kernelspec": {
   "display_name": ".venv (3.13.1)",
   "language": "python",
   "name": "python3"
  },
  "language_info": {
   "codemirror_mode": {
    "name": "ipython",
    "version": 3
   },
   "file_extension": ".py",
   "mimetype": "text/x-python",
   "name": "python",
   "nbconvert_exporter": "python",
   "pygments_lexer": "ipython3",
   "version": "3.13.1"
  }
 },
 "nbformat": 4,
 "nbformat_minor": 5
}
